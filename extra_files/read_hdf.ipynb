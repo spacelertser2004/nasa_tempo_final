{
 "cells": [
  {
   "cell_type": "code",
   "execution_count": null,
   "id": "52e11b43-4268-4c92-9840-e952fb0def43",
   "metadata": {},
   "outputs": [],
   "source": [
    "# Scans a hdf file and prints it's root groups and group structure\n",
    "def explore_hdf5_structure(hdf_file_path, group_of_interest=None):\n",
    "    \"\"\"\n",
    "    Explores the structure of an HDF5 file.\n",
    "    \n",
    "    Parameters:\n",
    "    - hdf_file_path: Path to the HDF5 file.\n",
    "    - group_of_interest: Specific group to explore in detail. If None, only the root is explored.\n",
    "    \"\"\"\n",
    "    with h5py.File(hdf_file_path, 'r') as hdf:\n",
    "        # List the contents of the root group\n",
    "        print(\"Items in the root group:\")\n",
    "        for name in hdf:\n",
    "            print(name)\n",
    "        \n",
    "        # If a specific group is of interest, explore its structure further\n",
    "        if group_of_interest and group_of_interest in hdf:\n",
    "            print(f\"\\nExploring the '{group_of_interest}' group structure:\")\n",
    "            group = hdf[group_of_interest]\n",
    "            print_group_structure(group)\n",
    "\n",
    "def print_group_structure(group, prefix=''):\n",
    "    \"\"\"Prints the structure of an HDF5 group.\"\"\"\n",
    "    for key in group.keys():\n",
    "        item = group[key]\n",
    "        print(prefix + key, \":\", \"Group\" if isinstance(item, h5py.Group) else \"Dataset\")\n",
    "        if isinstance(item, h5py.Group):\n",
    "            print_group_structure(item, prefix + '  ')\n",
    "\n",
    "# Usage\n",
    "file_path = 'tmp/TEMPO_NO2_L2_V01_20231230T232423Z_S011G06.nc'\n",
    "explore_hdf5_structure(file_path, 'product')"
   ]
  }
 ],
 "metadata": {
  "kernelspec": {
   "display_name": "Python 3 (ipykernel)",
   "language": "python",
   "name": "python3"
  },
  "language_info": {
   "codemirror_mode": {
    "name": "ipython",
    "version": 3
   },
   "file_extension": ".py",
   "mimetype": "text/x-python",
   "name": "python",
   "nbconvert_exporter": "python",
   "pygments_lexer": "ipython3",
   "version": "3.12.2"
  }
 },
 "nbformat": 4,
 "nbformat_minor": 5
}
